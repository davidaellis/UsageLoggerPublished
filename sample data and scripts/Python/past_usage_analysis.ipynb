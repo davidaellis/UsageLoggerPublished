{
 "cells": [
  {
   "cell_type": "markdown",
   "metadata": {},
   "source": [
    "<h2>1. Importing modules </h2>\n",
    "\n",
    "Pandas is required in order to manage the dataframe\n",
    "Numpy is used to handle numpy arrays\n",
    "os and path are used to access particular files"
   ]
  },
  {
   "cell_type": "code",
   "execution_count": 7,
   "metadata": {},
   "outputs": [],
   "source": [
    "import pandas as pd\n",
    "import numpy as np\n",
    "from datetime import datetime\n",
    "from matplotlib.colors import ListedColormap\n",
    "from matplotlib import pyplot as plt\n",
    "from IPython.display import Markdown"
   ]
  },
  {
   "cell_type": "markdown",
   "metadata": {},
   "source": [
    "<h2>2. Designating significance of smartphone events and apps</h2>\n",
    "\n",
    "Designate the significance of particular events. This is subject to change with the functioning of android. Please specify what events are import (to be included in the analysis) and what events constitutes being activiely engaged with the phone. Additionally, group the genera of apps that will be encountered. "
   ]
  },
  {
   "cell_type": "code",
   "execution_count": 3,
   "metadata": {},
   "outputs": [],
   "source": [
    "#From https://android.googlesource.com/platform/frameworks/base/+/master/core/java/android/app/usage/UsageEvents.java\n",
    "eventNumToDetails = {\n",
    "    0: \"none\",\n",
    "    1: \"move to foreground\",\n",
    "    2: \"move to background\",\n",
    "    3: \"End of day\",\n",
    "    4: \"Continue previous day\",\n",
    "    5: \"Configuration change\",\n",
    "    6: \"System interaction\",\n",
    "    7: \"User interaction\",\n",
    "    8: \"Shortcut invocation\",\n",
    "    9: \"Chooser action\",\n",
    "    10: \"Notification seen\",\n",
    "    11: \"Standby buncket changed\",\n",
    "    12: \"Notification interuption\",\n",
    "    13: \"SLICE_PINNED_PRIV\",\n",
    "    14: \"SLICE_PINNED_PRIV\",\n",
    "    15: \"Screen interactive\",\n",
    "    16: \"Screen non interactive\",\n",
    "    17: \"keyguard shown\",\n",
    "    18: \"keyguard hidden\",\n",
    "    19: \"Foreground service start\",\n",
    "    20: \"Foreground service stopped\",\n",
    "    21: \"Continuing foreground service\",\n",
    "    22: \"Rollover foreground service\",\n",
    "    23: \"Activity stopped\",\n",
    "    24: \"Activity destoryed\",\n",
    "    25: \"Flush to disk\",\n",
    "    26: \"Device shutdown\",\n",
    "    27: \"Device start up\"}\n",
    "#Important events determine everything that the period is established from one of these points to the next event\n",
    "importantEvents = [1,2, 7, 26,27]\n",
    "#Active events are those which are considered to be linked to screen time. \n",
    "activeEvents = [1,7]\n",
    "\n",
    "#The estimated duration that a person is using a single app before it is assumed that the user left their phone on. \n",
    "tooLong = 60*60*2\n"
   ]
  },
  {
   "cell_type": "markdown",
   "metadata": {},
   "source": [
    "<h2>3. Importing, Cleaning and describing the data </h2>\n",
    "\n",
    "Going through the data frame to remove any data points that can be merged. So that events that have less than a second when the app was in the background and it is ultimately within the same second. There are three stages of cleaning:\n",
    "<ol>\n",
    "    <li>Remove all events which are not included in the important events</li>\n",
    "    <li>Remove all events which are unnecessarily intercepted by a move_to_background event</li>\n",
    "    <li>Remove all events which are a duplicate of the one that comes before</li>\n",
    "    <li>Remove all background events which lasted a second</li>    \n",
    "</ol>\n",
    "\n",
    "Description of the data will include:\n",
    "<ol>\n",
    "    <li> The duration of monitoring that has occured</li>\n",
    "    <li>The duration spent using the smartphone device</li>\n",
    "    <li>The duration which each type of genera has been employed.</li>\n",
    "\n",
    "</ol>"
   ]
  },
  {
   "cell_type": "code",
   "execution_count": 15,
   "metadata": {},
   "outputs": [],
   "source": [
    "#functions for data cleaning\n",
    "\n",
    "def cleaning1 (data):\n",
    "    toDrop = []\n",
    "    toDrop = data[~data['Event'].isin(importantEvents)].index\n",
    "    data.drop(toDrop, inplace=True)\n",
    "    data.index = range(len(data))\n",
    "    return data\n",
    "\n",
    "def cleaning2 (data):\n",
    "    toDrop = []\n",
    "    for i in range(len(data)):\n",
    "        if data.Event[i] == 2 and (i+1) < len(data):\n",
    "            if (data.Unix[i] == data.Unix[i+1] and data.App[i] == data.App[i+1]):\n",
    "                if (i-1) > 0 :\n",
    "                    if data.Event[i-1] == data.Event[i+1]:\n",
    "                        toDrop.append(i)\n",
    "                        toDrop.append(i+1)\n",
    "                    else:\n",
    "                        toDrop.append(i)\n",
    "    data.drop(toDrop, inplace=True)\n",
    "    data.index = range(len(data))\n",
    "    return data\n",
    "\n",
    "def cleaning3(data):\n",
    "    toDrop = []\n",
    "    for i in range(len(data)-2):\n",
    "        if data.App[i] == data.App[(i+1)] and data.App[i] == data.App[(i+2)]:\n",
    "            if (data.Event[i] == 1 or data.Event[i] == 7) and (data.Event[(i+1)] == 1 or data.Event[(i+1)] == 7)  and (data.Event[(i+2)] == 1 or data.Event[(i+2)] == 7):\n",
    "                toDrop.append((i+1))\n",
    "                toDrop.append((i+2))\n",
    "    data.drop(toDrop, inplace=True)\n",
    "    data.index = range(len(data))\n",
    "    \n",
    "    return data\n",
    "\n",
    "def cleaning4(data, tooLong):\n",
    "    toDrop = []\n",
    "    for i in range(len(data)):\n",
    "        if data.Event[i] == 2 and data.duration[i] == 0:\n",
    "            toDrop.append(i)\n",
    "        if data.Event[i] != 2 and data.duration[i] > tooLong:\n",
    "            toDrop.append(i)\n",
    "            \n",
    "    data.drop(toDrop, inplace=True)\n",
    "    data.index = range(len(data))\n",
    "    return data\n",
    "\n",
    "\n",
    "def cleaning(data, printChanges):\n",
    "    if printChanges:\n",
    "        print(\"initialy the amount of rows in the dataframe was: \", len(data))\n",
    "    data = cleaning1(data.copy())\n",
    "    if printChanges:\n",
    "        print(\"after cleaning stage1 the amount of rows in the dataframe was: \", len(data))\n",
    "    data = cleaning2(data.copy())\n",
    "    if printChanges:\n",
    "        print(\"after cleaning stage2 the amount of rows in the dataframe was: \", len(data))    \n",
    "    data = cleaning3(data.copy())\n",
    "    if printChanges:\n",
    "        print(\"after cleaning stage3 the amount of rows in the dataframe was: \", len(data))\n",
    "        \n",
    "    duration = []\n",
    "    for i in range(len(data) -1):\n",
    "        duration.append(data.iloc[1+i]['Unix'] - data.iloc[i]['Unix'])\n",
    "    duration.append(0)\n",
    "    data.insert(4, \"duration\", duration)\n",
    "        \n",
    "    data = cleaning4(data.copy(), tooLong)\n",
    "    if printChanges:\n",
    "        print(\"after whole cleaning the amount of rows in the dataframe were: \", len(data))\n",
    "    return data\n",
    "\n"
   ]
  },
  {
   "cell_type": "markdown",
   "metadata": {},
   "source": [
    "<h2>Cleaning past usage data</h2>\n",
    "\n",
    "This will occur in a number of steps:\n",
    "\n",
    "<ol>\n",
    "    <li>Exclude unimportant events</li>\n",
    "    <li>remove duplicates of the same event</li>\n",
    "    <li>Combine multiple form of interaction at the same time</li>\n",
    "    <p><b>Then the script must establish the duration of usage events</b></p>\n",
    "    <li>remove events which are bizzarly long or events that lasted less than a second</li>\n",
    "</ol>\n",
    "\n"
   ]
  },
  {
   "cell_type": "code",
   "execution_count": 18,
   "metadata": {},
   "outputs": [
    {
     "name": "stdout",
     "output_type": "stream",
     "text": [
      "initialy the amount of rows in the dataframe was:  3425\n",
      "after cleaning stage1 the amount of rows in the dataframe were:  1184\n",
      "after cleaning stage2 the amount of rows in the dataframe were:  844\n",
      "after cleaning stage3 the amount of rows in the dataframe were:  832\n",
      "after whole cleaning the amount of rows in the dataframe were:  566\n",
      "           Unix           App  Event              rEvent  duration\n",
      "0    1571151207      WhatsApp      1  move to foreground         5\n",
      "1    1571151212      WhatsApp      1  move to foreground         4\n",
      "2    1571151216      WhatsApp      2  move to background       700\n",
      "3    1571151916      WhatsApp      1  move to foreground       970\n",
      "4    1571152886      WhatsApp      1  move to foreground        19\n",
      "..          ...           ...    ...                 ...       ...\n",
      "561  1571236273  Usage Logger      1  move to foreground        19\n",
      "562  1571236292      Settings      1  move to foreground         2\n",
      "563  1571236294  Usage Logger      1  move to foreground         1\n",
      "564  1571236295      Settings      1  move to foreground         6\n",
      "565  1571236301  Usage Logger      1  move to foreground         0\n",
      "\n",
      "[566 rows x 5 columns]\n"
     ]
    }
   ],
   "source": [
    "df = pd.read_csv(\"past usage.csv\")\n",
    "df = df.drop(columns = ['Unnamed: 3'])\n",
    "df.columns = [\"Unix\", \"App\", \"Event\"]\n",
    "\n",
    "df.Unix = df.Unix.astype(\"int\")\n",
    "df.Unix = df.Unix / 1000\n",
    "df.Unix = df.Unix.astype(\"int\")\n",
    "df.Event = df.Event.astype(\"int\")\n",
    "\n",
    "df['rEvent'] =  [eventNumToDetails.get(i, \"unanticipated event\") for i in df.Event]\n",
    "\n",
    "df = cleaning(df, True)\n",
    "print(df)"
   ]
  },
  {
   "cell_type": "markdown",
   "metadata": {},
   "source": [
    "<h2>Establishing variables</h2>\n",
    "\n",
    "<h3>Screen usage</h3>\n",
    "This is established through excluding all screen off events and the summing the duration. \n",
    "\n",
    "Then, establihing the different usage rates per day"
   ]
  },
  {
   "cell_type": "code",
   "execution_count": 6,
   "metadata": {},
   "outputs": [
    {
     "name": "stdout",
     "output_type": "stream",
     "text": [
      "on day: 2019-10-15phone was used for a duration of: 2.036111111111111\n",
      "on day: 2019-10-16phone was used for a duration of: 5.121944444444444\n"
     ]
    },
    {
     "name": "stderr",
     "output_type": "stream",
     "text": [
      "/opt/anaconda3/lib/python3.7/site-packages/ipykernel_launcher.py:7: SettingWithCopyWarning: \n",
      "A value is trying to be set on a copy of a slice from a DataFrame.\n",
      "Try using .loc[row_indexer,col_indexer] = value instead\n",
      "\n",
      "See the caveats in the documentation: http://pandas.pydata.org/pandas-docs/stable/user_guide/indexing.html#returning-a-view-versus-a-copy\n",
      "  import sys\n"
     ]
    }
   ],
   "source": [
    "df[\"dateTime\"] = [datetime.fromtimestamp(time) for time in df.Unix]\n",
    "screenOn = df[df.Event != 2]\n",
    "\n",
    "durationScreenUsed = sum(screenOn.duration)\n",
    "#print(\"total usage:\", durationScreenUsed/60/60, \"(in hours)\")\n",
    "\n",
    "screenOn[\"days\"] = [datetime.fromtimestamp(time).day for time in screenOn.Unix]\n",
    "\n",
    "#now investigating it per day\n",
    "for aDay in  screenOn.days.unique():\n",
    "    dayDF = screenOn[screenOn.days == aDay]\n",
    "    print(\"on day:\",str(dayDF.dateTime[dayDF.index[0]])[0:10] + \"phone was used for a duration of: \" + str(sum(dayDF.duration)/60/60))\n"
   ]
  },
  {
   "cell_type": "markdown",
   "metadata": {},
   "source": [
    "<h3>Establishing top used apps</h3>\n",
    "This is done by creating a new dataframe for each of the apps and then summing up the duration which they were used. "
   ]
  },
  {
   "cell_type": "code",
   "execution_count": 7,
   "metadata": {},
   "outputs": [
    {
     "name": "stdout",
     "output_type": "stream",
     "text": [
      "                     App     Duration\n",
      "0              Quickstep      1.97139\n",
      "1           Usage Logger      1.81333\n",
      "2                Audible     0.739167\n",
      "3              Polytopia     0.611667\n",
      "4                YouTube     0.563611\n",
      "5               WhatsApp     0.518056\n",
      "6                 Chrome         0.39\n",
      "7                 TikTok     0.261389\n",
      "8                  Phone         0.07\n",
      "9               Settings    0.0683333\n",
      "10              Checkers    0.0669444\n",
      "11              Messages    0.0447222\n",
      "12                 Gmail   0.00833333\n",
      "13     Google Play Store       0.0075\n",
      "14     Package installer   0.00666667\n",
      "15                Any.do   0.00638889\n",
      "16            Keep notes   0.00638889\n",
      "17        Android system   0.00166667\n",
      "18                Camera   0.00166667\n",
      "19  Stickman Dismounting  0.000833333\n"
     ]
    }
   ],
   "source": [
    "uniqueApps = df.App.unique()\n",
    "timeAppUsed = pd.DataFrame(columns = [\"App\", \"Duration\"])\n",
    "\n",
    "for app in uniqueApps:\n",
    "    appDf = df[df.App == app]\n",
    "    appDf = appDf[appDf.Event != 2]\n",
    "    lenAppUsed = len(timeAppUsed)\n",
    "    timeAppUsed.at[lenAppUsed, \"App\"] = app\n",
    "    timeAppUsed.at[lenAppUsed, \"Duration\"] = sum(appDf.duration)/60/60\n",
    "    \n",
    "timeAppUsed = timeAppUsed.sort_values(by=['Duration'], ascending=False)\n",
    "timeAppUsed.index = range(len(timeAppUsed))\n",
    "print(timeAppUsed)\n"
   ]
  },
  {
   "cell_type": "markdown",
   "metadata": {},
   "source": [
    "<h1>Integrating context</h1>\n",
    "\n",
    "Adding the context to provide information about usage. \n",
    "\n",
    "In the following example, we will review how many apps which are permitted to access the user's location are used of the course of the day. \n",
    "\n",
    "Finally, seeing the duration of usage for location enable apps across the two days"
   ]
  },
  {
   "cell_type": "code",
   "execution_count": 8,
   "metadata": {},
   "outputs": [
    {
     "name": "stdout",
     "output_type": "stream",
     "text": [
      "duration of usage across the two days for location sensing apps: 0.976388888888889\n"
     ]
    }
   ],
   "source": [
    "context = pd.read_csv(\"context.csv\")\n",
    "context = context.drop(columns = ['Unnamed: 3'])\n",
    "context.columnsc = [\"app\", \"permission\", \"response\"]\n",
    "\n",
    "#ensuring that context only reflects location detecting apps\n",
    "context = context[context[\"permission\"] == \"android.permission.ACCESS_FINE_LOCATION\"]\n",
    "context = context[context[\"response\"] == True]\n",
    "\n",
    "locationSensingApps = context.app.values\n",
    "\n",
    "locationDF = screenOn[screenOn[\"App\"].isin(locationSensingApps)]\n",
    "print(\"duration of usage across the two days for location sensing apps:\", sum(locationDF.duration)/60/60)"
   ]
  },
  {
   "cell_type": "markdown",
   "metadata": {},
   "source": [
    "<h1>Visualsisations</h1>\n",
    "\n",
    "The visualisations will include three different visualisations:\n",
    "\n",
    "<ol>\n",
    "    <li>A monochrome time based bar code of when the smartphone was on</li>\n",
    "    <li>A coloured time based code of when the top five used apps (of that day) were eployed</li>\n",
    "    <li>A monochrome time based bar code of when the location sensing apps were employed </li>\n",
    "</ol>\n"
   ]
  },
  {
   "cell_type": "code",
   "execution_count": 10,
   "metadata": {},
   "outputs": [
    {
     "name": "stderr",
     "output_type": "stream",
     "text": [
      "/opt/anaconda3/lib/python3.7/site-packages/ipykernel_launcher.py:13: SettingWithCopyWarning: \n",
      "A value is trying to be set on a copy of a slice from a DataFrame.\n",
      "Try using .loc[row_indexer,col_indexer] = value instead\n",
      "\n",
      "See the caveats in the documentation: http://pandas.pydata.org/pandas-docs/stable/user_guide/indexing.html#returning-a-view-versus-a-copy\n",
      "  del sys.path[0]\n"
     ]
    },
    {
     "data": {
      "image/png": "[encoded data removed]",
      "text/plain": [
       "<Figure size 432x288 with 1 Axes>"
      ]
     },
     "metadata": {
      "needs_background": "light"
     },
     "output_type": "display_data"
    },
    {
     "data": {
      "image/png": "[encoded data removed]",
      "text/plain": [
       "<Figure size 432x288 with 1 Axes>"
      ]
     },
     "metadata": {
      "needs_background": "light"
     },
     "output_type": "display_data"
    }
   ],
   "source": [
    "df[\"dateTime\"] = [datetime.fromtimestamp(time) for time in df.Unix]\n",
    "df[\"days\"] = [datetime.fromtimestamp(time).day for time in df.Unix]\n",
    "\n",
    "dayData = [df[df[\"days\"] == day] for day in df.days.unique()]\n",
    "\n",
    "## pd.set_option('mode.chained_assignment', None)\n",
    "\n",
    "for day in dayData:\n",
    "\n",
    "    day.index = range(len(day))\n",
    "    sec = []\n",
    "\n",
    "    day[\"duration\"] = day[\"duration\"].astype(int)\n",
    "\n",
    "    midnight = day.dateTime[0].replace(hour=0, minute=0, second=0, microsecond=0)\n",
    "    midnight = midnight.timestamp()\n",
    "    \n",
    "    durationOfEvent = 0\n",
    "\n",
    "    for i in range(60*60*24):\n",
    "        \n",
    "        currentTime = int(midnight+i)\n",
    "        if durationOfEvent < 3:\n",
    "            if (currentTime == day.Unix).any():\n",
    "                currentRow = day[day[\"Unix\"] == currentTime]\n",
    "                if currentRow.Event[currentRow.index[0]] != 2:\n",
    "                    durationOfEvent = currentRow.duration[currentRow.index[0]]\n",
    "\n",
    "        if durationOfEvent > 0:\n",
    "            sec.append(True)\n",
    "            durationOfEvent-=1\n",
    "        else:\n",
    "            sec.append(False)\n",
    "            \n",
    "    barprops = dict(aspect=\"auto\", cmap=\"binary\", interpolation = \"nearest\")\n",
    "    fig = plt.figure()\n",
    "    plt.rcParams.update({'font.size': 22})\n",
    "\n",
    "    ax = fig.add_axes([1,1,4,.5])\n",
    "    ax.set_axis_off()\n",
    "    sec = np.asarray(sec)\n",
    "    for hour in range(24):\n",
    "\n",
    "        ax.text(x = (len(sec)/24)*hour, y = .7, s = hour, color=\"#32a852\" )\n",
    "\n",
    "    ax.imshow(sec.reshape((1,-1)), **barprops)\n",
    "\n",
    "    spent = round(sum(day[day[\"Event\"] != 2][\"duration\"]/60/60),3)\n",
    "    title = str(day.dateTime[0].day) + \"/\" + str(day.dateTime[0].month) + \"/\" + str(day.dateTime[0].year) \n",
    "    plt.title(str(title) + \" - duration: \" + str(spent))\n",
    "\n",
    "    plt.show()"
   ]
  },
  {
   "cell_type": "code",
   "execution_count": 11,
   "metadata": {},
   "outputs": [
    {
     "data": {
      "image/png": "[encoded data removed]",
      "text/plain": [
       "<Figure size 432x288 with 1 Axes>"
      ]
     },
     "metadata": {
      "needs_background": "light"
     },
     "output_type": "display_data"
    },
    {
     "data": {
      "text/markdown": [
       "WhatsApp is coloured as <span style=\"color:black\">black</span>."
      ],
      "text/plain": [
       "<IPython.core.display.Markdown object>"
      ]
     },
     "metadata": {},
     "output_type": "display_data"
    },
    {
     "data": {
      "text/markdown": [
       "Quickstep is coloured as <span style=\"color:red\">red</span>."
      ],
      "text/plain": [
       "<IPython.core.display.Markdown object>"
      ]
     },
     "metadata": {},
     "output_type": "display_data"
    },
    {
     "data": {
      "text/markdown": [
       "TikTok is coloured as <span style=\"color:green\">green</span>."
      ],
      "text/plain": [
       "<IPython.core.display.Markdown object>"
      ]
     },
     "metadata": {},
     "output_type": "display_data"
    },
    {
     "data": {
      "text/markdown": [
       "YouTube is coloured as <span style=\"color:yellow\">yellow</span>."
      ],
      "text/plain": [
       "<IPython.core.display.Markdown object>"
      ]
     },
     "metadata": {},
     "output_type": "display_data"
    },
    {
     "data": {
      "text/markdown": [
       "Google Play Store is coloured as <span style=\"color:blue\">blue</span>."
      ],
      "text/plain": [
       "<IPython.core.display.Markdown object>"
      ]
     },
     "metadata": {},
     "output_type": "display_data"
    },
    {
     "data": {
      "image/png": "[encoded data removed]",
      "text/plain": [
       "<Figure size 432x288 with 1 Axes>"
      ]
     },
     "metadata": {
      "needs_background": "light"
     },
     "output_type": "display_data"
    },
    {
     "data": {
      "text/markdown": [
       "Quickstep is coloured as <span style=\"color:black\">black</span>."
      ],
      "text/plain": [
       "<IPython.core.display.Markdown object>"
      ]
     },
     "metadata": {},
     "output_type": "display_data"
    },
    {
     "data": {
      "text/markdown": [
       "Chrome is coloured as <span style=\"color:red\">red</span>."
      ],
      "text/plain": [
       "<IPython.core.display.Markdown object>"
      ]
     },
     "metadata": {},
     "output_type": "display_data"
    },
    {
     "data": {
      "text/markdown": [
       "YouTube is coloured as <span style=\"color:green\">green</span>."
      ],
      "text/plain": [
       "<IPython.core.display.Markdown object>"
      ]
     },
     "metadata": {},
     "output_type": "display_data"
    },
    {
     "data": {
      "text/markdown": [
       "Audible is coloured as <span style=\"color:yellow\">yellow</span>."
      ],
      "text/plain": [
       "<IPython.core.display.Markdown object>"
      ]
     },
     "metadata": {},
     "output_type": "display_data"
    },
    {
     "data": {
      "text/markdown": [
       "Usage Logger is coloured as <span style=\"color:blue\">blue</span>."
      ],
      "text/plain": [
       "<IPython.core.display.Markdown object>"
      ]
     },
     "metadata": {},
     "output_type": "display_data"
    }
   ],
   "source": [
    "df[\"dateTime\"] = [datetime.fromtimestamp(time) for time in df.Unix]\n",
    "df[\"days\"] = [datetime.fromtimestamp(time).day for time in df.Unix]\n",
    "\n",
    "dayData = [df[df[\"days\"] == day] for day in df.days.unique()]\n",
    "\n",
    "pd.set_option('mode.chained_assignment', None)\n",
    "for day in dayData:\n",
    "    employedApps = [\"not an app\"]\n",
    "    \n",
    "    appDuration =  pd.DataFrame(columns = [\"app\", \"duration\"])\n",
    "    \n",
    "    for app in day.App.unique():\n",
    "        onlyApp = day[day[\"App\"] == app]\n",
    "        lenApp = len(appDuration)\n",
    "        appDuration.at[lenApp, \"app\"] = app\n",
    "        appDuration.at[lenApp, \"duration\"] = sum(onlyApp.duration)\n",
    "    \n",
    "    appDuration = appDuration.sort_values(by=['duration'], ascending=False)\n",
    "    \n",
    "    appDuration = appDuration.iloc[:5]\n",
    "        \n",
    "    day = day[day.App.isin(appDuration.app)]\n",
    "    \n",
    "    day.index = range(len(day))\n",
    "    sec = []\n",
    "\n",
    "    day[\"duration\"] = day[\"duration\"].astype(int)\n",
    "\n",
    "    midnight = day.dateTime[0].replace(hour=0, minute=0, second=0, microsecond=0)\n",
    "    midnight = midnight.timestamp()\n",
    "    \n",
    "    durationOfEvent = 0\n",
    "    typeOfEvent = 0\n",
    "\n",
    "    for i in range(60*60*24):\n",
    "        \n",
    "        currentTime = int(midnight+i)\n",
    "        if durationOfEvent < 3:\n",
    "            if (currentTime == day.Unix).any():\n",
    "                currentRow = day[day[\"Unix\"] == currentTime]\n",
    "                if currentRow.Event[currentRow.index[0]] != 2:\n",
    "                    durationOfEvent = currentRow.duration[currentRow.index[0]]\n",
    "                    currentApp = currentRow.App[currentRow.index[0]]\n",
    "                    if currentApp not in  employedApps:\n",
    "                        employedApps.append(currentApp)\n",
    "                        \n",
    "                    typeOfEvent = employedApps.index(currentApp)\n",
    "\n",
    "        if durationOfEvent > 0:\n",
    "            sec.append(typeOfEvent)\n",
    "            durationOfEvent-=1\n",
    "        else:\n",
    "            sec.append(0)\n",
    "            \n",
    "    \n",
    "    colors = ListedColormap([\"white\",\"black\", \"red\", \"green\",\"yellow\",\"blue\"])\n",
    "\n",
    "    barprops = dict(aspect=\"auto\", cmap=colors)\n",
    "    fig = plt.figure()\n",
    "    plt.rcParams.update({'font.size': 22})\n",
    "\n",
    "    ax = fig.add_axes([1,1,4,.5])\n",
    "    ax.set_axis_off()\n",
    "    sec = np.asarray(sec)\n",
    "    for hour in range(24):\n",
    "        ax.text(x = (len(sec)/24)*hour, y = .7, s = hour, color=\"#32a852\" )\n",
    "\n",
    "    ax.imshow(sec.reshape((1,-1)), **barprops)\n",
    "\n",
    "    spent = round(sum(day[day[\"Event\"] != 2][\"duration\"]/60/60),3)\n",
    "    title = str(day.dateTime[0].day) + \"/\" + str(day.dateTime[0].month) + \"/\" + str(day.dateTime[0].year) \n",
    "    plt.title(str(title) + \" - duration: \" + str(spent))\n",
    "\n",
    "    theDay = day.days.unique()\n",
    "    \n",
    "    plt.show()    \n",
    "\n",
    "    for i in range(len(employedApps)):\n",
    "        if employedApps[i] != \"not an app\":\n",
    "            display (Markdown(str(employedApps[i]) +  ' is coloured as <span style=\"color:' + colors.colors[i]+'\">' + colors.colors[i] +'</span>.'))\n",
    "    "
   ]
  },
  {
   "cell_type": "code",
   "execution_count": 12,
   "metadata": {},
   "outputs": [
    {
     "name": "stdout",
     "output_type": "stream",
     "text": [
      "55\n",
      "15\n"
     ]
    },
    {
     "data": {
      "image/png": "[encoded data removed]",
      "text/plain": [
       "<Figure size 432x288 with 1 Axes>"
      ]
     },
     "metadata": {
      "needs_background": "light"
     },
     "output_type": "display_data"
    },
    {
     "name": "stdout",
     "output_type": "stream",
     "text": [
      "511\n",
      "121\n"
     ]
    },
    {
     "data": {
      "image/png": "[encoded data removed]",
      "text/plain": [
       "<Figure size 432x288 with 1 Axes>"
      ]
     },
     "metadata": {
      "needs_background": "light"
     },
     "output_type": "display_data"
    }
   ],
   "source": [
    "df[\"dateTime\"] = [datetime.fromtimestamp(time) for time in df.Unix]\n",
    "df[\"days\"] = [datetime.fromtimestamp(time).day for time in df.Unix]\n",
    "\n",
    "dayData = [df[df[\"days\"] == day] for day in df.days.unique()]\n",
    "\n",
    "## pd.set_option('mode.chained_assignment', None)\n",
    "\n",
    "for day in dayData:\n",
    "    \n",
    "    print(len(day))\n",
    "    day = day[day[\"App\"].isin(locationSensingApps)]\n",
    "    print(len(day))\n",
    "\n",
    "    day.index = range(len(day))\n",
    "    sec = []\n",
    "\n",
    "    day[\"duration\"] = day[\"duration\"].astype(int)\n",
    "\n",
    "    midnight = day.dateTime[0].replace(hour=0, minute=0, second=0, microsecond=0)\n",
    "    midnight = midnight.timestamp()\n",
    "\n",
    "    for i in range(60*60*24):\n",
    "        \n",
    "        currentTime = int(midnight+i)\n",
    "        if durationOfEvent < 3:\n",
    "            if (currentTime == day.Unix).any():\n",
    "                currentRow = day[day[\"Unix\"] == currentTime]\n",
    "                if currentRow.Event[currentRow.index[0]] != 2:\n",
    "                    durationOfEvent = currentRow.duration[currentRow.index[0]]\n",
    "\n",
    "        if durationOfEvent > 0:\n",
    "            sec.append(True)\n",
    "            durationOfEvent-=1\n",
    "        else:\n",
    "            sec.append(False)\n",
    "            \n",
    "    barprops = dict(aspect=\"auto\", cmap=\"binary\", interpolation = \"nearest\")\n",
    "    fig = plt.figure()\n",
    "    plt.rcParams.update({'font.size': 22})\n",
    "\n",
    "    ax = fig.add_axes([1,1,4,.5])\n",
    "    ax.set_axis_off()\n",
    "    sec = np.asarray(sec)\n",
    "    for hour in range(24):\n",
    "\n",
    "        ax.text(x = (len(sec)/24)*hour, y = .7, s = hour, color=\"#32a852\" )\n",
    "\n",
    "    ax.imshow(sec.reshape((1,-1)), **barprops)\n",
    "\n",
    "    spent = round(sum(day[day[\"Event\"] != 2][\"duration\"]/60/60),3)\n",
    "    title = str(day.dateTime[0].day) + \"/\" + str(day.dateTime[0].month) + \"/\" + str(day.dateTime[0].year) \n",
    "    plt.title(str(title) + \" - duration: \" + str(spent))\n",
    "\n",
    "    plt.show()\n"
   ]
  }
 ],
 "metadata": {
  "kernelspec": {
   "display_name": "Python 3",
   "language": "python",
   "name": "python3"
  },
  "language_info": {
   "codemirror_mode": {
    "name": "ipython",
    "version": 3
   },
   "file_extension": ".py",
   "mimetype": "text/x-python",
   "name": "python",
   "nbconvert_exporter": "python",
   "pygments_lexer": "ipython3",
   "version": "3.8.3"
  }
 },
 "nbformat": 4,
 "nbformat_minor": 4
}
