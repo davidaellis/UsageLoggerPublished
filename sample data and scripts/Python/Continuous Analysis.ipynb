{
 "cells": [
  {
   "cell_type": "markdown",
   "metadata": {},
   "source": [
    "<h2>1. Importing modules </h2>\n",
    "\n",
    "Pandas is required in order to manage the dataframe\n",
    "Numpy is used to handle numpy arrays\n",
    "os and path are used to access particular files"
   ]
  },
  {
   "cell_type": "code",
   "execution_count": 1,
   "metadata": {},
   "outputs": [],
   "source": [
    "import pandas as pd\n",
    "import numpy as np\n",
    "from datetime import datetime\n",
    "from matplotlib.colors import ListedColormap\n",
    "from matplotlib import pyplot as plt\n",
    "from IPython.display import Markdown"
   ]
  },
  {
   "cell_type": "markdown",
   "metadata": {},
   "source": [
    "<h2>Importing data</h2>"
   ]
  },
  {
   "cell_type": "code",
   "execution_count": 2,
   "metadata": {},
   "outputs": [
    {
     "name": "stdout",
     "output_type": "stream",
     "text": [
      "              Unix              Event  Duration\n",
      "0    1571236317025         screen off      2665\n",
      "1    1571236319690          screen on       137\n",
      "2    1571236319827  App: Usage Logger      2301\n",
      "3    1571236322128       user present       724\n",
      "4    1571236322852     App: Quickstep     12239\n",
      "..             ...                ...       ...\n",
      "455  1571295145875          screen on      3841\n",
      "456  1571295149716       user present     21375\n",
      "457  1571295171091       App: YouTube    185643\n",
      "458  1571295356734     App: Quickstep      3054\n",
      "459  1571295359788  App: Usage Logger         0\n",
      "\n",
      "[460 rows x 3 columns]\n",
      "note Unix is still in miliseconds\n"
     ]
    }
   ],
   "source": [
    "df = pd.read_csv(\"prospective.csv\")\n",
    "df = df.drop(columns = ['Unnamed: 2'])\n",
    "df.columns = [\"Unix\", \"Event\"]\n",
    "\n",
    "duration = []\n",
    "for i in range(len(df)-1):\n",
    "    duration.append(df.Unix[i+1] - df.Unix[i])\n",
    "duration.append(0)\n",
    "\n",
    "df[\"Duration\"] = duration\n",
    "\n",
    "print(df)\n",
    "print(\"note Unix is still in miliseconds\")"
   ]
  },
  {
   "cell_type": "markdown",
   "metadata": {},
   "source": [
    "<h2>Establishing variables</h2>\n",
    "\n",
    "<h3>Screen usage</h3>\n",
    "This is established through excluding all screen off events and the summing the duration. \n",
    "\n",
    "Then, establihing the different usage rates per day"
   ]
  },
  {
   "cell_type": "code",
   "execution_count": 3,
   "metadata": {},
   "outputs": [
    {
     "name": "stdout",
     "output_type": "stream",
     "text": [
      "milliseconds smartphone used for:  7006371\n",
      "hours smartphone used for: 1.9462141666666668\n",
      "on day 16 milliseconds smartphone used for:  3572664\n",
      "on day 16 hours smartphone used for: 0.9924066666666668\n",
      "on day 17 milliseconds smartphone used for:  3433707\n",
      "on day 17 hours smartphone used for: 0.9538074999999999\n"
     ]
    }
   ],
   "source": [
    "startOfUsage = 0\n",
    "usage = 0\n",
    "screenState = \"none\"\n",
    "for i in range(len(df)):\n",
    "    if df.Event[i] == \"screen on\" and screenState != \"screen on\":\n",
    "        startOfUsage = df.Unix[i]\n",
    "        screenState = \"screen on\"\n",
    "    if df.Event[i] == \"screen off\" and screenState == \"screen on\":\n",
    "        usage += (df.Unix[i] - startOfUsage)\n",
    "        startOfUsage = 0\n",
    "        screenState = \"screen off\"\n",
    "print(\"milliseconds smartphone used for: \", usage)\n",
    "print(\"hours smartphone used for:\",usage/1000/60/60)\n",
    "\n",
    "#now returning the time per day\n",
    "df[\"dateTime\"] = [datetime.fromtimestamp(time) for time in df.Unix/1000]\n",
    "df[\"days\"] = [datetime.fromtimestamp(time).day for time in df.Unix/1000]\n",
    "\n",
    "for currentDay in df[\"days\"].unique():\n",
    "    dayDF = df[df[\"days\"] == currentDay]\n",
    "    startOfUsage = 0\n",
    "    usage = 0\n",
    "    screenState = \"none\"\n",
    "    \n",
    "    dayDF.index = range(len(dayDF))\n",
    "    \n",
    "    for i in range(len(dayDF)):\n",
    "        if dayDF.Event[i] == \"screen on\" and screenState != \"screen on\":\n",
    "            startOfUsage = dayDF.Unix[i]\n",
    "            screenState = \"screen on\"\n",
    "        if dayDF.Event[i] == \"screen off\" and screenState == \"screen on\":\n",
    "            usage += (dayDF.Unix[i] - startOfUsage)\n",
    "            startOfUsage = 0\n",
    "            screenState = \"screen off\"\n",
    "    print(\"on day \" + str(currentDay), \"milliseconds smartphone used for: \", usage)\n",
    "    print(\"on day \" + str(currentDay),\"hours smartphone used for:\",usage/1000/60/60)\n",
    "\n",
    "\n",
    "\n",
    "            "
   ]
  },
  {
   "cell_type": "markdown",
   "metadata": {},
   "source": [
    "<h3>Establishing top used apps</h3>\n",
    "This is done by creating a new dataframe for each of the apps and then summing up the duration which they were used. "
   ]
  },
  {
   "cell_type": "code",
   "execution_count": 4,
   "metadata": {},
   "outputs": [
    {
     "name": "stdout",
     "output_type": "stream",
     "text": [
      "                          App     Duration\n",
      "0              App: Polytopia     0.566748\n",
      "1                 App: TikTok     0.290973\n",
      "2                App: YouTube     0.233675\n",
      "3                 App: Chrome     0.151065\n",
      "4           App: Usage Logger    0.0818372\n",
      "5              App: Quickstep    0.0561014\n",
      "6               App: WhatsApp    0.0353303\n",
      "7               App: Messages    0.0261453\n",
      "8   App: Google Play services    0.0138631\n",
      "9                  App: Phone    0.0127903\n",
      "10     App: Google Play Store   0.00920389\n",
      "11            App: DuckDuckGo   0.00734278\n",
      "12              App: Settings   0.00661639\n",
      "13                 App: Clock   0.00480583\n",
      "14               App: Audible   0.00198194\n",
      "15                App: Camera      0.00181\n",
      "16          App: Best Brokers   0.00138083\n",
      "17                 App: Gmail  0.000493889\n",
      "18      App: Contacts Storage  0.000488333\n",
      "19        App: Android system  0.000433333\n",
      "20     App: Package installer  0.000111944\n"
     ]
    }
   ],
   "source": [
    "events = df.Event.unique()\n",
    "Apps = []\n",
    "AppUsageDF = pd.DataFrame(columns = [\"App\",\"Duration\"])\n",
    "\n",
    "\n",
    "for event in events:\n",
    "    if str(event)[0:3] == \"App\":\n",
    "        Apps.append(str(event))\n",
    "\n",
    "for app in Apps:\n",
    "    appDF = df[df.Event == app]\n",
    "    lenAppUsage = len(AppUsageDF)\n",
    "    AppUsageDF.at[lenAppUsage, \"App\"] = app\n",
    "    AppUsageDF.at[lenAppUsage, \"Duration\"] = sum(appDF.Duration)/1000/60/60\n",
    "    \n",
    "AppUsageDF = AppUsageDF.sort_values(by=['Duration'], ascending=False)\n",
    "AppUsageDF.index = range(len(AppUsageDF))\n",
    "print(AppUsageDF)\n"
   ]
  },
  {
   "cell_type": "markdown",
   "metadata": {},
   "source": [
    "<h1>Integrating context</h1>\n",
    "\n",
    "Adding the context to provide information about usage. \n",
    "\n",
    "In the following example, we will review how many apps which are permitted to access the user's location are used of the course of the day. \n",
    "\n",
    "Finally, seeing the duration of usage for location enable apps across the two days"
   ]
  },
  {
   "cell_type": "code",
   "execution_count": 5,
   "metadata": {},
   "outputs": [
    {
     "name": "stdout",
     "output_type": "stream",
     "text": [
      "duration of usage across the two days for location sensing apps: 0.206875\n"
     ]
    }
   ],
   "source": [
    "context = pd.read_csv(\"context.csv\")\n",
    "context = context.drop(columns = ['Unnamed: 3'])\n",
    "context.columns = [\"app\", \"permission\", \"response\"]\n",
    "\n",
    "#ensuring that context only reflects location detecting apps\n",
    "context = context[context[\"permission\"] == \"android.permission.ACCESS_FINE_LOCATION\"]\n",
    "context = context[context[\"response\"] == True]\n",
    "\n",
    "locationSensingApps = context.app.values\n",
    "locationSensingApps = [\"App: \" + i for i in locationSensingApps]\n",
    "\n",
    "localeDF = df[df.Event.isin(locationSensingApps)]\n",
    "localeDF.index = range(len(localeDF))\n",
    "\n",
    "print(\"duration of usage across the two days for location sensing apps:\", sum(localeDF.Duration)/1000/60/60)"
   ]
  },
  {
   "cell_type": "markdown",
   "metadata": {},
   "source": [
    "<h1>Visualsisations</h1>\n",
    "\n",
    "The visualisations will include three different visualisations:\n",
    "\n",
    "<ol>\n",
    "    <li>A monochrome time based bar graph of when the smartphone was on</li>\n",
    "    <li>A coloured time based graph of when the top five used apps (of that day) were eployed</li>\n",
    "    <li>A monochrome time based bar graph of when the location sensing apps were employed </li>\n",
    "</ol>\n"
   ]
  },
  {
   "cell_type": "code",
   "execution_count": 6,
   "metadata": {},
   "outputs": [
    {
     "name": "stderr",
     "output_type": "stream",
     "text": [
      "/opt/anaconda3/lib/python3.7/site-packages/ipykernel_launcher.py:19: SettingWithCopyWarning: \n",
      "A value is trying to be set on a copy of a slice from a DataFrame.\n",
      "Try using .loc[row_indexer,col_indexer] = value instead\n",
      "\n",
      "See the caveats in the documentation: http://pandas.pydata.org/pandas-docs/stable/user_guide/indexing.html#returning-a-view-versus-a-copy\n"
     ]
    },
    {
     "data": {
      "image/png": "[encoded data removed]",
      "text/plain": [
       "<Figure size 432x288 with 1 Axes>"
      ]
     },
     "metadata": {
      "needs_background": "light"
     },
     "output_type": "display_data"
    },
    {
     "data": {
      "image/png": "[encoded data removed]",
      "text/plain": [
       "<Figure size 432x288 with 1 Axes>"
      ]
     },
     "metadata": {
      "needs_background": "light"
     },
     "output_type": "display_data"
    }
   ],
   "source": [
    "vDF = df.copy()\n",
    "vDF.Unix = (vDF.Unix/1000).astype(int)\n",
    "vDF[\"dateTime\"] = [datetime.fromtimestamp(time) for time in vDF.Unix]\n",
    "vDF[\"days\"] = [datetime.fromtimestamp(time).day for time in vDF.Unix]\n",
    "vDF = vDF[(vDF.Event == \"screen on\") | (vDF.Event == \"screen off\")]\n",
    "\n",
    "dayData = [vDF[vDF[\"days\"] == day] for day in vDF.days.unique()]\n",
    "\n",
    "## pd.set_option('mode.chained_assignment', None)\n",
    "\n",
    "for day in dayData:\n",
    "    \n",
    "    if day.iloc[len(day)-1].Event == \"screen on\":\n",
    "        day = day.iloc[0:len(day)-1]\n",
    "    \n",
    "    day.index = range(len(day))\n",
    "    sec = []\n",
    "\n",
    "    day[\"Duration\"] = day[\"Duration\"].astype(int)\n",
    "\n",
    "    midnight = day.dateTime[0].replace(hour=0, minute=0, second=0, microsecond=0)\n",
    "    midnight = midnight.timestamp()\n",
    "    \n",
    "    durationOfEvent = 0\n",
    "    screenState = \"none\"\n",
    "    uDuration = 0\n",
    "    for i in range(60*60*24):\n",
    "        \n",
    "        currentTime = int(midnight+i)\n",
    "        if durationOfEvent < 3:\n",
    "            if (currentTime == day.Unix).any():\n",
    "                currentRow = day[day[\"Unix\"] == currentTime]\n",
    "                if currentRow.Event[currentRow.index[0]] == \"screen on\":\n",
    "                    screenState = \"screen on\"\n",
    "                if currentRow.Event[currentRow.index[0]] == \"screen off\":\n",
    "                    screenState = \"screen off\"\n",
    "        if screenState == \"screen on\":\n",
    "            sec.append(True)\n",
    "            durationOfEvent-=1\n",
    "            uDuration += 1\n",
    "        else:\n",
    "            sec.append(False)\n",
    "            \n",
    "    barprops = dict(aspect=\"auto\", cmap=\"binary\", interpolation = \"nearest\")\n",
    "    fig = plt.figure()\n",
    "    plt.rcParams.update({'font.size': 22})\n",
    "\n",
    "    ax = fig.add_axes([1,1,4,.5])\n",
    "    ax.set_axis_off()\n",
    "    sec = np.asarray(sec)\n",
    "    for hour in range(24):\n",
    "\n",
    "        ax.text(x = (len(sec)/24)*hour, y = .7, s = hour, color=\"#32a852\" )\n",
    "\n",
    "    ax.imshow(sec.reshape((1,-1)), **barprops)\n",
    "\n",
    "    title = str(day.dateTime[0].day) + \"/\" + str(day.dateTime[0].month) + \"/\" + str(day.dateTime[0].year) \n",
    "    plt.title(str(title) + \" - duration: \" + str(uDuration/60/60))\n",
    "\n",
    "    plt.show()"
   ]
  },
  {
   "cell_type": "code",
   "execution_count": 7,
   "metadata": {},
   "outputs": [
    {
     "name": "stderr",
     "output_type": "stream",
     "text": [
      "/opt/anaconda3/lib/python3.7/site-packages/ipykernel_launcher.py:43: SettingWithCopyWarning: \n",
      "A value is trying to be set on a copy of a slice from a DataFrame.\n",
      "Try using .loc[row_indexer,col_indexer] = value instead\n",
      "\n",
      "See the caveats in the documentation: http://pandas.pydata.org/pandas-docs/stable/user_guide/indexing.html#returning-a-view-versus-a-copy\n"
     ]
    },
    {
     "data": {
      "image/png": "[encoded data removed]",
      "text/plain": [
       "<Figure size 432x288 with 1 Axes>"
      ]
     },
     "metadata": {
      "needs_background": "light"
     },
     "output_type": "display_data"
    },
    {
     "data": {
      "text/markdown": [
       "App: TikTok is coloured as <span style=\"color:black\">black</span>."
      ],
      "text/plain": [
       "<IPython.core.display.Markdown object>"
      ]
     },
     "metadata": {},
     "output_type": "display_data"
    },
    {
     "data": {
      "text/markdown": [
       "App: YouTube is coloured as <span style=\"color:red\">red</span>."
      ],
      "text/plain": [
       "<IPython.core.display.Markdown object>"
      ]
     },
     "metadata": {},
     "output_type": "display_data"
    },
    {
     "data": {
      "text/markdown": [
       "App: Usage Logger is coloured as <span style=\"color:green\">green</span>."
      ],
      "text/plain": [
       "<IPython.core.display.Markdown object>"
      ]
     },
     "metadata": {},
     "output_type": "display_data"
    },
    {
     "data": {
      "text/markdown": [
       "App: Chrome is coloured as <span style=\"color:yellow\">yellow</span>."
      ],
      "text/plain": [
       "<IPython.core.display.Markdown object>"
      ]
     },
     "metadata": {},
     "output_type": "display_data"
    },
    {
     "data": {
      "text/markdown": [
       "App: WhatsApp is coloured as <span style=\"color:blue\">blue</span>."
      ],
      "text/plain": [
       "<IPython.core.display.Markdown object>"
      ]
     },
     "metadata": {},
     "output_type": "display_data"
    },
    {
     "data": {
      "image/png": "[encoded data removed]",
      "text/plain": [
       "<Figure size 432x288 with 1 Axes>"
      ]
     },
     "metadata": {
      "needs_background": "light"
     },
     "output_type": "display_data"
    },
    {
     "data": {
      "text/markdown": [
       "App: Polytopia is coloured as <span style=\"color:black\">black</span>."
      ],
      "text/plain": [
       "<IPython.core.display.Markdown object>"
      ]
     },
     "metadata": {},
     "output_type": "display_data"
    },
    {
     "data": {
      "text/markdown": [
       "App: TikTok is coloured as <span style=\"color:red\">red</span>."
      ],
      "text/plain": [
       "<IPython.core.display.Markdown object>"
      ]
     },
     "metadata": {},
     "output_type": "display_data"
    },
    {
     "data": {
      "text/markdown": [
       "App: YouTube is coloured as <span style=\"color:green\">green</span>."
      ],
      "text/plain": [
       "<IPython.core.display.Markdown object>"
      ]
     },
     "metadata": {},
     "output_type": "display_data"
    },
    {
     "data": {
      "text/markdown": [
       "App: Chrome is coloured as <span style=\"color:yellow\">yellow</span>."
      ],
      "text/plain": [
       "<IPython.core.display.Markdown object>"
      ]
     },
     "metadata": {},
     "output_type": "display_data"
    },
    {
     "data": {
      "text/markdown": [
       "App: Quickstep is coloured as <span style=\"color:blue\">blue</span>."
      ],
      "text/plain": [
       "<IPython.core.display.Markdown object>"
      ]
     },
     "metadata": {},
     "output_type": "display_data"
    }
   ],
   "source": [
    "vDF = df.copy()\n",
    "vDF.Unix = (vDF.Unix/1000).astype(int)\n",
    "vDF[\"dateTime\"] = [datetime.fromtimestamp(time) for time in vDF.Unix]\n",
    "vDF[\"days\"] = [datetime.fromtimestamp(time).day for time in vDF.Unix]\n",
    "\n",
    "dayData = [vDF[vDF[\"days\"] == day] for day in vDF.days.unique()]\n",
    "\n",
    "## pd.set_option('mode.chained_assignment', None)\n",
    "\n",
    "for day in dayData:\n",
    "    \n",
    "    events = day.Event.unique()\n",
    "    Apps = []\n",
    "    AppUsageDF = pd.DataFrame(columns = [\"App\",\"Duration\"])\n",
    "\n",
    "    for event in events:\n",
    "        if str(event)[0:3] == \"App\":\n",
    "            Apps.append(str(event))\n",
    "\n",
    "    for app in Apps:\n",
    "        appDF = day[day.Event == app]\n",
    "        lenAppUsage = len(AppUsageDF)\n",
    "        AppUsageDF.at[lenAppUsage, \"App\"] = app\n",
    "        AppUsageDF.at[lenAppUsage, \"Duration\"] = sum(appDF.Duration)/60/60\n",
    "\n",
    "        \n",
    "    AppUsageDF = AppUsageDF.sort_values(by=['Duration'], ascending=False)\n",
    "    AppUsageDF.index = range(len(AppUsageDF))\n",
    "    AppUsageDF = AppUsageDF.iloc[:5]\n",
    "\n",
    "    day = day[day[\"Event\"].isin(AppUsageDF.App)]\n",
    "    \n",
    "    employedApps = [\"not an app\"]\n",
    "    \n",
    "    for app in AppUsageDF.App:\n",
    "        employedApps.append(app)\n",
    "    \n",
    "    colors = ListedColormap([\"white\",\"black\", \"red\", \"green\",\"yellow\",\"blue\"])\n",
    "    \n",
    "    day.index = range(len(day))\n",
    "    sec = []\n",
    "\n",
    "    day[\"Duration\"] = day[\"Duration\"].astype(int)\n",
    "\n",
    "    midnight = day.dateTime[0].replace(hour=0, minute=0, second=0, microsecond=0)\n",
    "    midnight = midnight.timestamp()\n",
    "    \n",
    "    durationOfEvent = 0\n",
    "    screenState = \"none\"\n",
    "    uDuration = 0\n",
    "    \n",
    "    for i in range(60*60*24):\n",
    "        \n",
    "        currentTime = int(midnight+i)\n",
    "        if durationOfEvent < 3:\n",
    "            if (currentTime == day.Unix).any():\n",
    "                currentRow = day[day[\"Unix\"] == currentTime]\n",
    "\n",
    "                durationOfEvent = currentRow.Duration[currentRow.index[0]]/1000\n",
    "                uDuration += currentRow.Duration[currentRow.index[0]]/1000\n",
    "                currentApp = currentRow.Event[currentRow.index[0]]\n",
    "                typeOfEvent = employedApps.index(currentApp)\n",
    "\n",
    "        if durationOfEvent > 0:\n",
    "            sec.append(typeOfEvent)\n",
    "            durationOfEvent-=1\n",
    "        else:\n",
    "            sec.append(0)\n",
    "            \n",
    "    barprops = dict(aspect=\"auto\", cmap=colors, interpolation = \"nearest\")\n",
    "    fig = plt.figure()\n",
    "    plt.rcParams.update({'font.size': 22})\n",
    "\n",
    "    ax = fig.add_axes([1,1,4,.5])\n",
    "    ax.set_axis_off()\n",
    "    sec = np.asarray(sec)\n",
    "    for hour in range(24):\n",
    "\n",
    "        ax.text(x = (len(sec)/24)*hour, y = .7, s = hour, color=\"#32a852\" )\n",
    "\n",
    "    ax.imshow(sec.reshape((1,-1)), **barprops)\n",
    "\n",
    "    title = str(day.dateTime[0].day) + \"/\" + str(day.dateTime[0].month) + \"/\" + str(day.dateTime[0].year) \n",
    "    plt.title(str(title) + \" - duration: \" + str(uDuration/60/60))\n",
    "\n",
    "    plt.show()\n",
    "    \n",
    "    for i in range(len(employedApps)):\n",
    "        if employedApps[i] != \"not an app\":\n",
    "            display (Markdown(str(employedApps[i]) +  ' is coloured as <span style=\"color:' + colors.colors[i]+'\">' + colors.colors[i] +'</span>.'))"
   ]
  },
  {
   "cell_type": "code",
   "execution_count": 8,
   "metadata": {},
   "outputs": [
    {
     "name": "stderr",
     "output_type": "stream",
     "text": [
      "/opt/anaconda3/lib/python3.7/site-packages/ipykernel_launcher.py:28: SettingWithCopyWarning: \n",
      "A value is trying to be set on a copy of a slice from a DataFrame.\n",
      "Try using .loc[row_indexer,col_indexer] = value instead\n",
      "\n",
      "See the caveats in the documentation: http://pandas.pydata.org/pandas-docs/stable/user_guide/indexing.html#returning-a-view-versus-a-copy\n"
     ]
    },
    {
     "data": {
      "image/png": "[encoded data removed]",
      "text/plain": [
       "<Figure size 432x288 with 1 Axes>"
      ]
     },
     "metadata": {
      "needs_background": "light"
     },
     "output_type": "display_data"
    },
    {
     "data": {
      "image/png": "[encoded data removed]",
      "text/plain": [
       "<Figure size 432x288 with 1 Axes>"
      ]
     },
     "metadata": {
      "needs_background": "light"
     },
     "output_type": "display_data"
    }
   ],
   "source": [
    "vDF = df.copy()\n",
    "vDF.Unix = (vDF.Unix/1000).astype(int)\n",
    "vDF[\"dateTime\"] = [datetime.fromtimestamp(time) for time in vDF.Unix]\n",
    "vDF[\"days\"] = [datetime.fromtimestamp(time).day for time in vDF.Unix]\n",
    "\n",
    "context = pd.read_csv(\"context.csv\")\n",
    "context = context.drop(columns = ['Unnamed: 3'])\n",
    "context.columns = [\"app\", \"permission\", \"response\"]\n",
    "\n",
    "#ensuring that context only reflects location detecting apps\n",
    "context = context[context[\"permission\"] == \"android.permission.ACCESS_FINE_LOCATION\"]\n",
    "context = context[context[\"response\"] == True]\n",
    "\n",
    "locationSensingApps = context.app.values\n",
    "locationSensingApps = [\"App: \" + i for i in locationSensingApps]\n",
    "\n",
    "dayData = [vDF[vDF[\"days\"] == day] for day in vDF.days.unique()]\n",
    "\n",
    "## pd.set_option('mode.chained_assignment', None)\n",
    "\n",
    "for day in dayData:\n",
    "    \n",
    "    day = day[day[\"Event\"].isin(locationSensingApps)]\n",
    "    \n",
    "    day.index = range(len(day))\n",
    "    sec = []\n",
    "\n",
    "    day[\"Duration\"] = day[\"Duration\"].astype(int)\n",
    "\n",
    "    midnight = day.dateTime[0].replace(hour=0, minute=0, second=0, microsecond=0)\n",
    "    midnight = midnight.timestamp()\n",
    "    \n",
    "    durationOfEvent = 0\n",
    "    uDuration = 0\n",
    "    for i in range(60*60*24):\n",
    "        \n",
    "        currentTime = int(midnight+i)\n",
    "        if durationOfEvent < 3:\n",
    "            if (currentTime == day.Unix).any():\n",
    "                currentRow = day[day[\"Unix\"] == currentTime]\n",
    "\n",
    "                durationOfEvent = currentRow.Duration[currentRow.index[0]]/1000\n",
    "                uDuration += currentRow.Duration[currentRow.index[0]]/1000\n",
    "\n",
    "        if durationOfEvent > 0:\n",
    "            sec.append(True)\n",
    "            durationOfEvent-=1\n",
    "        else:\n",
    "            sec.append(False)\n",
    "            \n",
    "    barprops = dict(aspect=\"auto\", cmap=\"binary\", interpolation = \"nearest\")\n",
    "    fig = plt.figure()\n",
    "    plt.rcParams.update({'font.size': 22})\n",
    "\n",
    "    ax = fig.add_axes([1,1,4,.5])\n",
    "    ax.set_axis_off()\n",
    "    sec = np.asarray(sec)\n",
    "    for hour in range(24):\n",
    "\n",
    "        ax.text(x = (len(sec)/24)*hour, y = .7, s = hour, color=\"#32a852\" )\n",
    "\n",
    "    ax.imshow(sec.reshape((1,-1)), **barprops)\n",
    "\n",
    "    title = str(day.dateTime[0].day) + \"/\" + str(day.dateTime[0].month) + \"/\" + str(day.dateTime[0].year) \n",
    "    plt.title(str(title) + \" - duration: \" + str(uDuration/60/60))\n",
    "\n",
    "    plt.show()"
   ]
  }
 ],
 "metadata": {
  "kernelspec": {
   "display_name": "Python 3",
   "language": "python",
   "name": "python3"
  },
  "language_info": {
   "codemirror_mode": {
    "name": "ipython",
    "version": 3
   },
   "file_extension": ".py",
   "mimetype": "text/x-python",
   "name": "python",
   "nbconvert_exporter": "python",
   "pygments_lexer": "ipython3",
   "version": "3.8.3"
  }
 },
 "nbformat": 4,
 "nbformat_minor": 4
}
